{
 "cells": [
  {
   "cell_type": "code",
   "execution_count": 1,
   "id": "c5769a01",
   "metadata": {},
   "outputs": [
    {
     "name": "stdout",
     "output_type": "stream",
     "text": [
      "Num GPUs Available:  0\n",
      "[name: \"/device:CPU:0\"\n",
      "device_type: \"CPU\"\n",
      "memory_limit: 268435456\n",
      "locality {\n",
      "}\n",
      "incarnation: 11803737212506501383\n",
      "]\n"
     ]
    }
   ],
   "source": [
    "#The variables which are commented are to use the CPU instead of the GPU\n",
    "#The os variable set in -1 will disable the GPU\n",
    "\n",
    "#import os\n",
    "#os.environ[\"CUDA_VISIBLE_DEVICES\"] = \"-1\"\n",
    "\n",
    "import tensorflow as tf\n",
    "\n",
    "print(\"Num GPUs Available: \", len(tf.config.list_physical_devices('GPU')))\n",
    "from tensorflow.python.client import device_lib\n",
    "print(device_lib.list_local_devices())\n",
    "\n",
    "\n",
    "#The threads variables are used to set the number of threads to be used when CPU test are needed\n",
    "\n",
    "# Number of threads\n",
    "#os.environ['TF_NUM_INTEROP_THREADS'] = '12'\n",
    "#os.environ['TF_NUM_INTRAOP_THREADS'] = '12'"
   ]
  },
  {
   "cell_type": "code",
   "execution_count": 2,
   "id": "6102cfd1",
   "metadata": {
    "scrolled": false
   },
   "outputs": [
    {
     "name": "stdout",
     "output_type": "stream",
     "text": [
      "Epoch 1/10\n",
      "2573/2573 [==============================] - 3s 900us/step - loss: 0.0135 - accuracy: 0.9971\n",
      "Epoch 2/10\n",
      "2573/2573 [==============================] - 2s 899us/step - loss: 0.0011 - accuracy: 0.9999\n",
      "Epoch 3/10\n",
      "2573/2573 [==============================] - 2s 893us/step - loss: 7.7594e-04 - accuracy: 0.9999\n",
      "Epoch 4/10\n",
      "2573/2573 [==============================] - 2s 890us/step - loss: 3.0066e-04 - accuracy: 0.9999\n",
      "Epoch 5/10\n",
      "2573/2573 [==============================] - 2s 877us/step - loss: 2.7460e-04 - accuracy: 0.9999\n",
      "Epoch 6/10\n",
      "2573/2573 [==============================] - 2s 889us/step - loss: 7.5632e-05 - accuracy: 1.0000\n",
      "Epoch 7/10\n",
      "2573/2573 [==============================] - 2s 885us/step - loss: 9.3554e-05 - accuracy: 1.0000\n",
      "Epoch 8/10\n",
      "2573/2573 [==============================] - 2s 899us/step - loss: 4.9375e-05 - accuracy: 1.0000\n",
      "Epoch 9/10\n",
      "2573/2573 [==============================] - 2s 907us/step - loss: 7.9195e-05 - accuracy: 1.0000\n",
      "Epoch 10/10\n",
      "2573/2573 [==============================] - 2s 902us/step - loss: 2.4112e-06 - accuracy: 1.0000\n",
      "Binary Classification - Training Time: 23.48999285697937 seconds\n",
      "Test Accuracy: 99.99\n"
     ]
    }
   ],
   "source": [
    "import time\n",
    "import pandas as pd\n",
    "from tensorflow.keras.models import Sequential\n",
    "from tensorflow.keras.layers import Dense, Dropout\n",
    "from sklearn.preprocessing import LabelEncoder, StandardScaler\n",
    "from sklearn.model_selection import train_test_split\n",
    "\n",
    "# Read the datasets\n",
    "train_data = pd.read_csv('UNSW_NB15_training-set.csv')\n",
    "test_data = pd.read_csv('UNSW_NB15_testing-set.csv')\n",
    "\n",
    "# 'label' is the binary target column\n",
    "label_column = 'label'\n",
    "\n",
    "# All other columns are feature columns\n",
    "feature_columns = train_data.columns.tolist()\n",
    "feature_columns.remove(label_column)\n",
    "\n",
    "X_train = train_data[feature_columns]\n",
    "y_train = train_data[label_column]\n",
    "X_test = test_data[feature_columns]\n",
    "y_test = test_data[label_column]\n",
    "\n",
    "# Label Encoding for the binary target variable\n",
    "label_encoder = LabelEncoder()\n",
    "y_train = label_encoder.fit_transform(y_train)\n",
    "y_test = label_encoder.transform(y_test)\n",
    "\n",
    "# One-hot encoding for the categorical features\n",
    "X_train = pd.get_dummies(X_train)\n",
    "X_test = pd.get_dummies(X_test)\n",
    "\n",
    "# Ensure the test data has the same columns as the training data\n",
    "X_test = X_test.reindex(columns=X_train.columns, fill_value=0)\n",
    "\n",
    "# Scale feature data\n",
    "scaler = StandardScaler()\n",
    "X_train = scaler.fit_transform(X_train)\n",
    "X_test = scaler.transform(X_test)\n",
    "\n",
    "model = Sequential()\n",
    "model.add(Dense(64, activation='relu', input_shape=(X_train.shape[1],))),\n",
    "Dropout(0.5),\n",
    "model.add(Dense(32, activation='relu')),\n",
    "Dropout(0.5),\n",
    "model.add(Dense(1, activation='sigmoid')),\n",
    "Dropout(0.5)\n",
    "\n",
    "model.compile(optimizer='adam', loss='binary_crossentropy', metrics=['accuracy'])\n",
    "\n",
    "# Train the model using fit() as usual (no need to change this part)\n",
    "start_time_binary = time.time()\n",
    "model.fit(X_train, y_train, epochs=10, verbose=1)\n",
    "end_time_binary = time.time()\n",
    "\n",
    "# Calculate training time for binary classification\n",
    "training_time_binary = end_time_binary - start_time_binary\n",
    "print(\"Binary Classification - Training Time:\", training_time_binary, \"seconds\")\n",
    "\n",
    "# Evaluate the model\n",
    "loss, accuracy = model.evaluate(X_test, y_test, verbose=0)\n",
    "print('Test Accuracy: %.2f' % (accuracy * 100))\n"
   ]
  },
  {
   "cell_type": "code",
   "execution_count": 3,
   "id": "e2792f44",
   "metadata": {},
   "outputs": [
    {
     "name": "stdout",
     "output_type": "stream",
     "text": [
      "Test F1 Score: 1.00\n",
      "Test Recall: 1.00\n",
      "Test Precision: 1.00\n"
     ]
    }
   ],
   "source": [
    "from sklearn.metrics import f1_score, recall_score, precision_score\n",
    "\n",
    "# Make predictions on the test data\n",
    "y_pred = model.predict(X_test)\n",
    "y_pred_binary = (y_pred > 0.5).astype(int)  # Convert probabilities to binary predictions (0 or 1)\n",
    "\n",
    "# Calculate metrics\n",
    "f1 = f1_score(y_test, y_pred_binary)\n",
    "recall = recall_score(y_test, y_pred_binary)\n",
    "precision = precision_score(y_test, y_pred_binary)\n",
    "\n",
    "# Print metrics\n",
    "print('Test F1 Score: %.2f' % f1)\n",
    "print('Test Recall: %.2f' % recall)\n",
    "print('Test Precision: %.2f' % precision)"
   ]
  }
 ],
 "metadata": {
  "kernelspec": {
   "display_name": "tf_gpu",
   "language": "python",
   "name": "tf_gpu"
  },
  "language_info": {
   "codemirror_mode": {
    "name": "ipython",
    "version": 3
   },
   "file_extension": ".py",
   "mimetype": "text/x-python",
   "name": "python",
   "nbconvert_exporter": "python",
   "pygments_lexer": "ipython3",
   "version": "3.7.0"
  }
 },
 "nbformat": 4,
 "nbformat_minor": 5
}
