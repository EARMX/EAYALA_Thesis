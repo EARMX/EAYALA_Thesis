{
 "cells": [
  {
   "cell_type": "code",
   "execution_count": 1,
   "id": "c5769a01",
   "metadata": {},
   "outputs": [
    {
     "name": "stderr",
     "output_type": "stream",
     "text": [
      "2023-08-08 17:20:10.973565: I tensorflow/core/platform/cpu_feature_guard.cc:182] This TensorFlow binary is optimized to use available CPU instructions in performance-critical operations.\n",
      "To enable the following instructions: AVX2 FMA, in other operations, rebuild TensorFlow with the appropriate compiler flags.\n",
      "2023-08-08 17:20:11.929475: W tensorflow/compiler/tf2tensorrt/utils/py_utils.cc:38] TF-TRT Warning: Could not find TensorRT\n"
     ]
    },
    {
     "name": "stdout",
     "output_type": "stream",
     "text": [
      "Num GPUs Available:  0\n",
      "[name: \"/device:CPU:0\"\n",
      "device_type: \"CPU\"\n",
      "memory_limit: 268435456\n",
      "locality {\n",
      "}\n",
      "incarnation: 9899750526362080611\n",
      "xla_global_id: -1\n",
      "]\n"
     ]
    },
    {
     "name": "stderr",
     "output_type": "stream",
     "text": [
      "2023-08-08 17:20:13.006094: E tensorflow/compiler/xla/stream_executor/cuda/cuda_driver.cc:266] failed call to cuInit: CUDA_ERROR_NO_DEVICE: no CUDA-capable device is detected\n",
      "2023-08-08 17:20:13.006142: I tensorflow/compiler/xla/stream_executor/cuda/cuda_diagnostics.cc:168] retrieving CUDA diagnostic information for host: ip-172-31-19-119\n",
      "2023-08-08 17:20:13.006151: I tensorflow/compiler/xla/stream_executor/cuda/cuda_diagnostics.cc:175] hostname: ip-172-31-19-119\n",
      "2023-08-08 17:20:13.006234: I tensorflow/compiler/xla/stream_executor/cuda/cuda_diagnostics.cc:199] libcuda reported version is: 535.86.5\n",
      "2023-08-08 17:20:13.006264: I tensorflow/compiler/xla/stream_executor/cuda/cuda_diagnostics.cc:203] kernel reported version is: 535.86.5\n",
      "2023-08-08 17:20:13.006273: I tensorflow/compiler/xla/stream_executor/cuda/cuda_diagnostics.cc:309] kernel version seems to match DSO: 535.86.5\n"
     ]
    }
   ],
   "source": [
    "#The variables which are commented are to use the CPU instead of the GPU\n",
    "#The os variable set in -1 will disable the GPU\n",
    "\n",
    "#import os\n",
    "#os.environ[\"CUDA_VISIBLE_DEVICES\"] = \"-1\"\n",
    "\n",
    "import tensorflow as tf\n",
    "\n",
    "print(\"Num GPUs Available: \", len(tf.config.list_physical_devices('GPU')))\n",
    "from tensorflow.python.client import device_lib\n",
    "print(device_lib.list_local_devices())\n",
    "\n",
    "\n",
    "#The threads variables are used to set the number of threads to be used when CPU test are needed\n",
    "\n",
    "# Number of threads\n",
    "#os.environ['TF_NUM_INTEROP_THREADS'] = '32'\n",
    "#os.environ['TF_NUM_INTRAOP_THREADS'] = '32'"
   ]
  },
  {
   "cell_type": "code",
   "execution_count": 2,
   "id": "6102cfd1",
   "metadata": {
    "scrolled": false
   },
   "outputs": [
    {
     "name": "stdout",
     "output_type": "stream",
     "text": [
      "Epoch 1/10\n",
      "644/644 [==============================] - 4s 5ms/step - loss: 0.3081 - accuracy: 0.9927 - val_loss: 0.0523 - val_accuracy: 0.9986\n",
      "Epoch 2/10\n",
      "644/644 [==============================] - 3s 5ms/step - loss: 0.0301 - accuracy: 0.9999 - val_loss: 0.0302 - val_accuracy: 0.9990\n",
      "Epoch 3/10\n",
      "644/644 [==============================] - 3s 5ms/step - loss: 0.0185 - accuracy: 1.0000 - val_loss: 0.0221 - val_accuracy: 0.9991\n",
      "Epoch 4/10\n",
      "644/644 [==============================] - 3s 5ms/step - loss: 0.0131 - accuracy: 1.0000 - val_loss: 0.0172 - val_accuracy: 0.9990\n",
      "Epoch 5/10\n",
      "644/644 [==============================] - 3s 4ms/step - loss: 0.0108 - accuracy: 1.0000 - val_loss: 0.0150 - val_accuracy: 0.9989\n",
      "Epoch 6/10\n",
      "644/644 [==============================] - 3s 5ms/step - loss: 0.0089 - accuracy: 1.0000 - val_loss: 0.0137 - val_accuracy: 0.9990\n",
      "Epoch 7/10\n",
      "644/644 [==============================] - 3s 5ms/step - loss: 0.0077 - accuracy: 1.0000 - val_loss: 0.0137 - val_accuracy: 0.9990\n",
      "Epoch 8/10\n",
      "644/644 [==============================] - 3s 5ms/step - loss: 0.0064 - accuracy: 1.0000 - val_loss: 0.0119 - val_accuracy: 0.9990\n",
      "Epoch 9/10\n",
      "644/644 [==============================] - 3s 4ms/step - loss: 0.0056 - accuracy: 1.0000 - val_loss: 0.0110 - val_accuracy: 0.9989\n",
      "Epoch 10/10\n",
      "644/644 [==============================] - 3s 4ms/step - loss: 0.0049 - accuracy: 1.0000 - val_loss: 0.0104 - val_accuracy: 0.9989\n",
      "Epoch 1/10\n",
      "2573/2573 [==============================] - 5s 2ms/step - loss: 0.0047 - accuracy: 1.0000\n",
      "Epoch 2/10\n",
      "2573/2573 [==============================] - 4s 2ms/step - loss: 0.0032 - accuracy: 1.0000\n",
      "Epoch 3/10\n",
      "2573/2573 [==============================] - 5s 2ms/step - loss: 0.0033 - accuracy: 1.0000\n",
      "Epoch 4/10\n",
      "2573/2573 [==============================] - 5s 2ms/step - loss: 0.0024 - accuracy: 1.0000\n",
      "Epoch 5/10\n",
      "2573/2573 [==============================] - 5s 2ms/step - loss: 0.0030 - accuracy: 0.9999\n",
      "Epoch 6/10\n",
      "2573/2573 [==============================] - 5s 2ms/step - loss: 0.0021 - accuracy: 1.0000\n",
      "Epoch 7/10\n",
      "2573/2573 [==============================] - 5s 2ms/step - loss: 0.0020 - accuracy: 1.0000\n",
      "Epoch 8/10\n",
      "2573/2573 [==============================] - 4s 2ms/step - loss: 0.0017 - accuracy: 1.0000\n",
      "Epoch 9/10\n",
      "2573/2573 [==============================] - 4s 2ms/step - loss: 0.0016 - accuracy: 1.0000\n",
      "Epoch 10/10\n",
      "2573/2573 [==============================] - 4s 2ms/step - loss: 0.0016 - accuracy: 1.0000\n",
      "Binary Classification - Training Time: 45.12813067436218 seconds\n",
      "Test Accuracy: 99.90\n"
     ]
    }
   ],
   "source": [
    "import time\n",
    "import pandas as pd\n",
    "from tensorflow.keras.models import Sequential\n",
    "from tensorflow.keras.layers import Dense\n",
    "from sklearn.preprocessing import LabelEncoder, StandardScaler\n",
    "from sklearn.model_selection import train_test_split\n",
    "\n",
    "# Read the datasets\n",
    "train_data = pd.read_csv('UNSW_NB15_training-set.csv')\n",
    "test_data = pd.read_csv('UNSW_NB15_testing-set.csv')\n",
    "\n",
    "# 'label' is the binary target column\n",
    "label_column = 'label'\n",
    "\n",
    "# All other columns are feature columns\n",
    "feature_columns = train_data.columns.tolist()\n",
    "feature_columns.remove(label_column)\n",
    "\n",
    "X_train = train_data[feature_columns]\n",
    "y_train = train_data[label_column]\n",
    "X_test = test_data[feature_columns]\n",
    "y_test = test_data[label_column]\n",
    "\n",
    "# Label Encoding for the binary target variable\n",
    "label_encoder = LabelEncoder()\n",
    "y_train = label_encoder.fit_transform(y_train)\n",
    "y_test = label_encoder.transform(y_test)\n",
    "\n",
    "# One-hot encoding for the categorical features\n",
    "X_train = pd.get_dummies(X_train)\n",
    "X_test = pd.get_dummies(X_test)\n",
    "\n",
    "# Ensure the test data has the same columns as the training data\n",
    "X_test = X_test.reindex(columns=X_train.columns, fill_value=0)\n",
    "\n",
    "# Scale feature data\n",
    "scaler = StandardScaler()\n",
    "X_train = scaler.fit_transform(X_train)\n",
    "X_test = scaler.transform(X_test)\n",
    "\n",
    "# Wrap the model creation and training within a MirroredStrategy scope\n",
    "#The line of code 'GPUS = [\"GPU:0\"]' and 'strategy = tf.distribute.MirroredStrategy(GPUS)' should be commented when CPU is selected\n",
    "\n",
    "GPUS = [\"GPU:0\"]\n",
    "strategy = tf.distribute.MirroredStrategy(GPUS)\n",
    "\n",
    "# Building the Neural Network model within the MirroredStrategy scope\n",
    "# The strategy line code 'with strategy.scope():' should be commented when the CPU is used for the data processing\n",
    "# The tabular space should be also eliminated to avoid errors\n",
    "\n",
    "with strategy.scope():\n",
    "    model = Sequential()\n",
    "    model.add(Dense(64, activation='relu', input_shape=(X_train.shape[1],)))\n",
    "    model.add(Dense(32, activation='relu'))\n",
    "    model.add(Dense(1, activation='sigmoid'))  # Binary classification output layer\n",
    "\n",
    "    model.compile(optimizer='adam', loss='binary_crossentropy', metrics=['accuracy'])\n",
    "\n",
    "    # Train the model using fit() as usual (no need to change this part)\n",
    "    start_time_binary = time.time()\n",
    "    model.fit(X_train, y_train, epochs=10, verbose=1)\n",
    "    end_time_binary = time.time()\n",
    "\n",
    "# Calculate training time for binary classification\n",
    "training_time_binary = end_time_binary - start_time_binary\n",
    "print(\"Binary Classification - Training Time:\", training_time_binary, \"seconds\")\n",
    "\n",
    "# Evaluate the model\n",
    "loss, accuracy = model.evaluate(X_test, y_test, verbose=0)\n",
    "print('Test Accuracy: %.2f' % (accuracy * 100))\n"
   ]
  },
  {
   "cell_type": "code",
   "execution_count": 3,
   "id": "e2792f44",
   "metadata": {},
   "outputs": [
    {
     "name": "stdout",
     "output_type": "stream",
     "text": [
      "5480/5480 [==============================] - 5s 886us/step\n",
      "Test F1 Score: 1.00\n",
      "Test Recall: 1.00\n",
      "Test Precision: 1.00\n"
     ]
    }
   ],
   "source": [
    "from sklearn.metrics import f1_score, recall_score, precision_score\n",
    "\n",
    "# Make predictions on the test data\n",
    "y_pred = model.predict(X_test)\n",
    "y_pred_binary = (y_pred > 0.5).astype(int)  # Convert probabilities to binary predictions (0 or 1)\n",
    "\n",
    "# Calculate metrics\n",
    "f1 = f1_score(y_test, y_pred_binary)\n",
    "recall = recall_score(y_test, y_pred_binary)\n",
    "precision = precision_score(y_test, y_pred_binary)\n",
    "\n",
    "# Print metrics\n",
    "print('Test F1 Score: %.2f' % f1)\n",
    "print('Test Recall: %.2f' % recall)\n",
    "print('Test Precision: %.2f' % precision)"
   ]
  },
  {
   "cell_type": "code",
   "execution_count": 4,
   "id": "2611f25d",
   "metadata": {},
   "outputs": [
    {
     "name": "stdout",
     "output_type": "stream",
     "text": [
      "Test F1 Score: 1.00\n",
      "Test Recall: 1.00\n",
      "Test Precision: 1.00\n"
     ]
    }
   ],
   "source": [
    "# Calculate metrics\n",
    "f1 = f1_score(y_test, y_pred_binary)\n",
    "recall = recall_score(y_test, y_pred_binary)\n",
    "precision = precision_score(y_test, y_pred_binary)\n",
    "\n",
    "# Print metrics\n",
    "print('Test F1 Score: %.2f' % f1)\n",
    "print('Test Recall: %.2f' % recall)\n",
    "print('Test Precision: %.2f' % precision)"
   ]
  }
 ],
 "metadata": {
  "kernelspec": {
   "display_name": "tf_gpu",
   "language": "python",
   "name": "tf_gpu"
  },
  "language_info": {
   "codemirror_mode": {
    "name": "ipython",
    "version": 3
   },
   "file_extension": ".py",
   "mimetype": "text/x-python",
   "name": "python",
   "nbconvert_exporter": "python",
   "pygments_lexer": "ipython3",
   "version": "3.7.0"
  }
 },
 "nbformat": 4,
 "nbformat_minor": 5
}
